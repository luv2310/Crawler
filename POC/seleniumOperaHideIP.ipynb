{
 "cells": [
  {
   "cell_type": "code",
   "execution_count": 33,
   "id": "7cc5a4b5",
   "metadata": {},
   "outputs": [],
   "source": [
    "from selenium import webdriver\n",
    "from time import sleep"
   ]
  },
  {
   "cell_type": "code",
   "execution_count": 34,
   "id": "4c40f567",
   "metadata": {},
   "outputs": [],
   "source": [
    "opera_profile = r'C:\\\\Users\\\\luv.mendiratta\\\\AppData\\\\Roaming\\\\Opera Software\\\\Opera Stable'\n",
    "options = webdriver.ChromeOptions()\n",
    "options.add_argument('user-data-dir=' + opera_profile)\n",
    "options._binary_location = r'C:\\\\Users\\\\luv.mendiratta\\\\AppData\\\\Local\\\\Programs\\\\Opera\\\\77.0.4054.172\\\\opera.exe'\n",
    "driver = webdriver.Opera(executable_path=r'C:\\\\Users\\\\luv.mendiratta\\\\Desktop\\\\operadriver_win64\\\\operadriver_win64\\\\operadriver.exe',options=options)\n",
    "driver.get('https://whatismyipaddress.com')\n",
    "sleep(25)\n",
    "driver.quit()"
   ]
  }
 ],
 "metadata": {
  "kernelspec": {
   "display_name": "Python 3",
   "language": "python",
   "name": "python3"
  },
  "language_info": {
   "codemirror_mode": {
    "name": "ipython",
    "version": 3
   },
   "file_extension": ".py",
   "mimetype": "text/x-python",
   "name": "python",
   "nbconvert_exporter": "python",
   "pygments_lexer": "ipython3",
   "version": "3.8.8"
  }
 },
 "nbformat": 4,
 "nbformat_minor": 5
}
